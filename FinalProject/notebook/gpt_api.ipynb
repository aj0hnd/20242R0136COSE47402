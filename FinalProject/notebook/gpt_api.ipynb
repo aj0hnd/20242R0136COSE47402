{
 "cells": [
  {
   "cell_type": "code",
   "execution_count": 1,
   "metadata": {},
   "outputs": [],
   "source": [
    "import os \n",
    "import json\n",
    "from dotenv import load_dotenv\n",
    "from pydantic import BaseModel\n",
    "from openai import OpenAI"
   ]
  },
  {
   "cell_type": "code",
   "execution_count": 4,
   "metadata": {},
   "outputs": [],
   "source": [
    "load_dotenv()\n",
    "api_key = os.getenv('API_KEY')\n",
    "\n",
    "client = OpenAI(api_key=api_key)"
   ]
  },
  {
   "cell_type": "code",
   "execution_count": 5,
   "metadata": {},
   "outputs": [],
   "source": [
    "class captionGenerateResponse(BaseModel):\n",
    "    caption: str"
   ]
  },
  {
   "cell_type": "code",
   "execution_count": 31,
   "metadata": {},
   "outputs": [],
   "source": [
    "system_prompt = \"\"\"\n",
    "    ### Role\n",
    "    You are a chatbot that generates descriptions of food items based on user input.\n",
    "    The captions you create will later be used to classify images of food.\n",
    "    ### Importance\n",
    "    Focus on describing the food's color, ingredients, and appearance. \n",
    "    Your task is to generate detailed captions centered around these characteristics for the given food input.\n",
    "    Do not generate ways to enhance the taste of the given food. Focus on describing its appearance.\n",
    "    Do not use adjectives or adverbs like \"perfectly\", \"glistening\", \"fresh\", \"glossy\", \"colorful\", \"variant\" and \"artfully\" in the translation.\n",
    "    Most critical point, the response must be fewer than 50 tokens.\n",
    "    ### Few-shots\n",
    "    1. class name : Spaghetti with clms\n",
    "    response : Spaghetti tossed with plump, juicy clams, glistening in garlic-infused olive oil. Parsley and a sprinkle of red pepper are added.\n",
    "    2. class name : fried chicken\n",
    "    response : Golden-brown fried chicken, crispy, with a crunchy coating. Juicy meat peeks through, garnished with parsley.\n",
    "    3. class name : kimchi \n",
    "    response : Vibrant red and orange kimchi, made from crisp napa cabbage and radish, is laced with red mist and garlic. It showcases a green scallions peeking through.\n",
    "    4. class name : ricotta cheese\n",
    "    response : Creamy white ricotta cheese, displays soft peaks with a hint of grain.\n",
    "    5. class name : galic bread\n",
    "    response : Golden-brown garlic bread, crisp on the outside, is slathered in a mixture of melted butter and minced garlic. Parsley adds a pop of green.\n",
    "    6. class name : pumpkin soup\n",
    "    response : Vibrant orange pumpkin soup, creamy and smooth, garnished with a sprinkle of nutmeg and a swirl of rich cream.\n",
    "    7. class name : salmon sashimi\n",
    "    response : Lustrous, vibrant orange salmon sashimi, sliced to showcase the rich marbling. Each piece glistens is arranged on a white plate.\n",
    "    8. class name : oi sobagi\n",
    "    response : Oi sobagi, a Korean cucumber dish, features green cucumbers filled with a spicy, mixture of chili pepper, garlic, and scallions. The dish showcases red bits of pepper and flecks of green herbs.\n",
    "    9. class name : Yu Xiang Eggplant\n",
    "    response : Yu Xiang Eggplant, featuring deep purple, eggplant slices sautéed in a sauce with garlic, ginger, and chili peppers. Green onions and red chili flakes add contrast.\n",
    "    10. class name : Nagasaki Champon\n",
    "    response : Nagasaki Champon features yellow ramen noodles, vegetables, and seafood such as shrimp and squid. The broth is cloudy white, garnished with slices of pork and topped with scallions.\n",
    "\"\"\""
   ]
  },
  {
   "cell_type": "code",
   "execution_count": 7,
   "metadata": {},
   "outputs": [],
   "source": [
    "def caption_generate(client, prompt, className):\n",
    "    \n",
    "    response = client.beta.chat.completions.parse(\n",
    "        model='gpt-4o-mini',\n",
    "        messages=[\n",
    "            {\"role\": \"system\", \"content\": prompt},\n",
    "            {\n",
    "                \"role\": \"user\",\n",
    "                \"content\": [\n",
    "                    {\"type\": \"text\", \"text\": f\"Please generate caption about the {className}\"}\n",
    "                ]\n",
    "            }\n",
    "        ],\n",
    "        response_format=captionGenerateResponse\n",
    "    )\n",
    "\n",
    "    result = response.choices[0].message.content\n",
    "    response_data = json.loads(result)\n",
    "\n",
    "    return response_data['caption']"
   ]
  },
  {
   "cell_type": "code",
   "execution_count": 30,
   "metadata": {},
   "outputs": [
    {
     "data": {
      "text/plain": [
       "'Nagasaki Champon features a bowl of thick, yellow ramen noodles, vibrant vegetables, and seafood such as shrimp and squid. The broth is a rich, cloudy white, garnished with slices of pork and topped with scallions.'"
      ]
     },
     "execution_count": 30,
     "metadata": {},
     "output_type": "execute_result"
    }
   ],
   "source": [
    "result = caption_generate(client, system_prompt, \"Nagasaki Champon\")\n",
    "result"
   ]
  }
 ],
 "metadata": {
  "kernelspec": {
   "display_name": "dl3_2env",
   "language": "python",
   "name": "python3"
  },
  "language_info": {
   "codemirror_mode": {
    "name": "ipython",
    "version": 3
   },
   "file_extension": ".py",
   "mimetype": "text/x-python",
   "name": "python",
   "nbconvert_exporter": "python",
   "pygments_lexer": "ipython3",
   "version": "3.11.7"
  }
 },
 "nbformat": 4,
 "nbformat_minor": 2
}
