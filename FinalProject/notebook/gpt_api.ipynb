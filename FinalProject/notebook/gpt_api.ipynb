{
 "cells": [
  {
   "cell_type": "code",
   "execution_count": 40,
   "metadata": {},
   "outputs": [],
   "source": [
    "import os \n",
    "import json\n",
    "from dotenv import load_dotenv\n",
    "from pydantic import BaseModel\n",
    "from collections import defaultdict\n",
    "from openai import OpenAI"
   ]
  },
  {
   "cell_type": "code",
   "execution_count": 41,
   "metadata": {},
   "outputs": [],
   "source": [
    "load_dotenv()\n",
    "api_key = os.getenv('API_KEY')\n",
    "\n",
    "client = OpenAI(api_key=api_key)"
   ]
  },
  {
   "cell_type": "code",
   "execution_count": 42,
   "metadata": {},
   "outputs": [],
   "source": [
    "class captionGenerateResponse(BaseModel):\n",
    "    caption: str"
   ]
  },
  {
   "cell_type": "code",
   "execution_count": 43,
   "metadata": {},
   "outputs": [],
   "source": [
    "system_prompt = \"\"\"\n",
    "    ### Role\n",
    "    You are a chatbot that generates descriptions of food items based on user input.\n",
    "    The captions you create will later be used to classify images of food.\n",
    "    ### Importance\n",
    "    Focus on describing the food's color, ingredients, and appearance. \n",
    "    Your task is to generate detailed captions centered around these characteristics for the given food input.\n",
    "    Do not generate ways to enhance the taste of the given food. Focus on describing its appearance.\n",
    "    Do not use adjectives or adverbs like \"perfectly\", \"glistening\", \"fresh\", \"glossy\", \"colorful\", \"variant\" and \"artfully\" in the translation.\n",
    "    Most critical point, the response must be fewer than 50 tokens.\n",
    "    ### Few-shots\n",
    "    1. class name : Spaghetti with clms\n",
    "    response : Spaghetti tossed with plump, juicy clams, glistening in garlic-infused olive oil. Parsley and a sprinkle of red pepper are added.\n",
    "    2. class name : fried chicken\n",
    "    response : Golden-brown fried chicken, crispy, with a crunchy coating. Juicy meat peeks through, garnished with parsley.\n",
    "    3. class name : kimchi \n",
    "    response : Vibrant red and orange kimchi, made from crisp napa cabbage and radish, is laced with red mist and garlic. It showcases a green scallions peeking through.\n",
    "    4. class name : ricotta cheese\n",
    "    response : Creamy white ricotta cheese, displays soft peaks with a hint of grain.\n",
    "    5. class name : galic bread\n",
    "    response : Golden-brown garlic bread, crisp on the outside, is slathered in a mixture of melted butter and minced garlic. Parsley adds a pop of green.\n",
    "    6. class name : pumpkin soup\n",
    "    response : Vibrant orange pumpkin soup, creamy and smooth, garnished with a sprinkle of nutmeg and a swirl of rich cream.\n",
    "    7. class name : salmon sashimi\n",
    "    response : Lustrous, vibrant orange salmon sashimi, sliced to showcase the rich marbling. Each piece glistens is arranged on a white plate.\n",
    "    8. class name : oi sobagi\n",
    "    response : Oi sobagi, a Korean cucumber dish, features green cucumbers filled with a spicy, mixture of chili pepper, garlic, and scallions. The dish showcases red bits of pepper and flecks of green herbs.\n",
    "    9. class name : Yu Xiang Eggplant\n",
    "    response : Yu Xiang Eggplant, featuring deep purple, eggplant slices sautéed in a sauce with garlic, ginger, and chili peppers. Green onions and red chili flakes add contrast.\n",
    "    10. class name : Nagasaki Champon\n",
    "    response : Nagasaki Champon features yellow ramen noodles, vegetables, and seafood such as shrimp and squid. The broth is cloudy white, garnished with slices of pork and topped with scallions.\n",
    "\"\"\""
   ]
  },
  {
   "cell_type": "code",
   "execution_count": 44,
   "metadata": {},
   "outputs": [],
   "source": [
    "def caption_generate(client, prompt, className):\n",
    "    \n",
    "    response = client.beta.chat.completions.parse(\n",
    "        model='gpt-4o-mini',\n",
    "        messages=[\n",
    "            {\"role\": \"system\", \"content\": prompt},\n",
    "            {\n",
    "                \"role\": \"user\",\n",
    "                \"content\": [\n",
    "                    {\"type\": \"text\", \"text\": f\"Please generate caption about the {className}\"}\n",
    "                ]\n",
    "            }\n",
    "        ],\n",
    "        response_format=captionGenerateResponse\n",
    "    )\n",
    "\n",
    "    result = response.choices[0].message.content\n",
    "    response_data = json.loads(result)\n",
    "\n",
    "    return response_data['caption']"
   ]
  },
  {
   "cell_type": "code",
   "execution_count": 30,
   "metadata": {},
   "outputs": [
    {
     "data": {
      "text/plain": [
       "'Nagasaki Champon features a bowl of thick, yellow ramen noodles, vibrant vegetables, and seafood such as shrimp and squid. The broth is a rich, cloudy white, garnished with slices of pork and topped with scallions.'"
      ]
     },
     "execution_count": 30,
     "metadata": {},
     "output_type": "execute_result"
    }
   ],
   "source": [
    "result = caption_generate(client, system_prompt, \"Nagasaki Champon\")\n",
    "result"
   ]
  },
  {
   "cell_type": "code",
   "execution_count": 45,
   "metadata": {},
   "outputs": [],
   "source": [
    "data_dir = \"/Users/anjonghyeon/Desktop/KU/3-2/DeepLearning/20242R0136COSE47402/FinalProject/data/test\"\n",
    "class_candidate = []\n",
    "\n",
    "for folder in os.listdir(data_dir):\n",
    "    folder = folder.replace('_', ' ')\n",
    "    class_candidate.append(folder)"
   ]
  },
  {
   "cell_type": "code",
   "execution_count": 47,
   "metadata": {},
   "outputs": [],
   "source": [
    "class_captions = defaultdict(list)\n",
    "for food in class_candidate:\n",
    "    result = caption_generate(client, system_prompt, food)\n",
    "    class_captions[food] = result"
   ]
  },
  {
   "cell_type": "code",
   "execution_count": 48,
   "metadata": {},
   "outputs": [
    {
     "data": {
      "text/plain": [
       "defaultdict(list,\n",
       "            {'foie gras': 'Foie gras presents a rich, creamy texture, with a pale beige hue. It is arranged elegantly, showcasing its smooth surface. Accompanying garnishes may include fruit compote and toasted bread.',\n",
       "             'club sandwich': 'A club sandwich stacked high, featuring layers of golden-brown toasted bread, crispy bacon, turkey slices, and fresh lettuce. Slices of tomato add color, and a toothpick holds it together.',\n",
       "             'cheese plate': 'A cheese plate displaying an assortment of cheeses, including creamy brie, sharp cheddar, and blue cheese. It features slices, wedges, and cubes of cheese accompanied by crackers, fruits, and nuts.',\n",
       "             'cup cakes': 'Cupcakes with soft, fluffy bases, topped with creamy frosting in various colors. Sprinkles and decorative toppings add texture, all presented in colorful liners.',\n",
       "             'garlic bread': 'Garlic bread with a golden-brown crust, crisp on the outside. It is coated with a rich mixture of melted butter and minced garlic, sprinkled with green parsley.',\n",
       "             'gnocchi': 'Pillowy, light gnocchi, featuring a pale, creamy hue. Each piece is shaped into small dumplings, often served with a sprinkle of Parmesan cheese and fresh herbs.',\n",
       "             'ice cream': 'Creamy ice cream in assorted colors, including pale pink, rich chocolate brown, and bright vanilla white. The scoops are generously piled, creating an inviting dessert.',\n",
       "             'samosa': 'Golden-brown samosas, triangular in shape, feature a crispy pastry shell filled with spiced potatoes and peas. The exterior showcases a light sheen.',\n",
       "             'donuts': 'A variety of donuts, featuring round shapes with colorful icing on top. Some are sprinkled with chocolate chips, while others have a dusting of powdered sugar or vibrant glazes, showcasing an assortment of toppings.',\n",
       "             'tuna tartare': 'Fresh pink tuna tartare, finely diced, is mixed with avocado and a hint of sesame oil. It is garnished with bright green cilantro and served on a white plate.',\n",
       "             'filet mignon': 'Filet mignon, a tender cut of beef, showcases a deep red interior with a caramelized brown exterior. Juicy marbling is visible throughout, garnished with sprigs of green herbs.',\n",
       "             'seaweed salad': 'Seaweed salad features dark green, shiny seaweed strands tossed with sesame seeds and a light dressing. The salad is accented with slices of cucumber and grated carrots.',\n",
       "             'french toast': 'Golden-brown slices of French toast, dusted with powdered sugar. Served with fresh berries and a drizzle of maple syrup.',\n",
       "             'chicken curry': 'Chicken curry features tender, chunky pieces of chicken simmered in a rich, golden-brown sauce with spices. There are vibrant bits of green from fresh cilantro and red from chili peppers.',\n",
       "             'shrimp and grits': 'Shrimp and grits showcase tender, sautéed shrimp in a creamy, yellow cornmeal base. The dish is accented with specks of green herbs and a hint of red from seasoning.',\n",
       "             'steak': 'Juicy steak, seared to a rich brown crust, showcases a pink interior, with herbs like rosemary scattered on top. A side of grilled vegetables adds green contrast.',\n",
       "             'cheesecake': 'Creamy white cheesecake, smooth and dense, is set on a golden-brown crust. A glossy layer of fruit topping adds a vibrant contrast.',\n",
       "             'red velvet cake': 'Red velvet cake with deep red layers, alternates with thick white cream cheese frosting. Decorative crumbs and swirls adorn the top.',\n",
       "             'waffles': 'Golden-brown waffles with a crispy exterior and fluffy interior, featuring deep pockets ready for syrup. The dish is served with fresh berries and a dusting of powdered sugar.',\n",
       "             'churros': 'Churros, long and golden-brown, are dusted in cinnamon sugar, with a crispy exterior and a soft, doughy center. They are often served with a side of thick chocolate sauce.',\n",
       "             'gyoza': 'Golden-brown gyoza dumplings, pan-fried to a crisp exterior. The pleated edges cradle a filling of finely chopped cabbage, pork, and garlic, served with soy sauce dip.',\n",
       "             'lobster roll sandwich': 'A lobster roll sandwich features chunks of bright red lobster meat, lightly dressed in mayonnaise, served in a toasted, soft bun. Celery adds a hint of crunch and a sprinkle of parsley enhances the presentation.',\n",
       "             'huevos rancheros': 'Huevos rancheros feature sunny-side-up eggs on a base of warm corn tortillas, topped with a vibrant tomato and chili sauce. Cilantro and avocado slices add green accents.',\n",
       "             'breakfast burrito': 'Breakfast burrito wrapped in a warm tortilla, filled with scrambled eggs, diced tomatoes, cheese, and black beans. The colorful ingredients peek out from one end.',\n",
       "             'grilled cheese sandwich': 'Grilled cheese sandwich with a golden, crispy exterior. Melted cheese oozes from the center, sandwiched between toasted bread.',\n",
       "             'spaghetti bolognese': 'Spaghetti Bolognese features long strands of cooked spaghetti topped with a rich, meaty sauce made from ground beef and tomatoes. The dish is garnished with finely chopped parsley.',\n",
       "             'falafel': 'Golden-brown falafel balls, crispy on the outside, with a textured green interior made from ground chickpeas, herbs, and spices. Served with a drizzle of tahini and a sprinkle of parsley.',\n",
       "             'poutine': 'Poutine features golden fries topped with rich brown gravy, melted cheese curds, and a sprinkle of black pepper. The cheese curds are soft, contrasting with the crispy fries.',\n",
       "             'greek salad': 'Greek salad showcases vibrant red tomatoes, crisp cucumbers, and white feta cheese, garnished with black olives and green bell peppers. Drizzled with olive oil and sprinkled with oregano.',\n",
       "             'beef tartare': 'Beef tartare, finely chopped raw beef, is served in a mound. It showcases a deep red hue, garnished with diced onions, capers, and a raw egg yolk on top. Parsley adds a touch of green.',\n",
       "             'fried calamari': 'Fried calamari, golden and crispy, features tender squid rings with a crunchy exterior. Sprinkled with a hint of parsley and served with a side of marinara sauce.',\n",
       "             'guacamole': 'Guacamole showcasing a vibrant green color, made from creamy avocado, diced tomatoes, red onion, and cilantro. A hint of lime juice is visible, adding a touch of brightness.',\n",
       "             'ravioli': \"Ravioli, square-shaped pasta parcels, filled with creamy ricotta and spinach. The pasta's surface is dusted with flour, revealing a delicate, golden hue.\",\n",
       "             'lobster bisque': 'Rich, creamy lobster bisque showcases a warm orange hue with small chunks of lobster meat. Garnished with fresh herbs and a drizzle of cream.',\n",
       "             'beet salad': 'Beet salad showcases deep ruby-red beets, sliced and arranged atop a bed of mixed greens. Feta cheese and walnuts are scattered throughout, adding texture.',\n",
       "             'risotto': 'Creamy white risotto, made with Arborio rice, displays a rich texture and is enriched with grated Parmesan cheese. It is garnished with green herbs and speckled with cooked mushrooms.',\n",
       "             'crab cakes': 'Golden-brown crab cakes, crispy on the outside, reveal tender chunks of crab meat within. Fragments of herbs and spices are visible throughout.',\n",
       "             'strawberry shortcake': 'Strawberry shortcake features layers of light, fluffy cake, interspersed with bright red, sliced strawberries. A creamy whipped topping blankets the dessert, adding a smooth finish.',\n",
       "             'edamame': 'Bright green edamame pods, showcasing a smooth surface, are nestled in a light sprinkle of sea salt. The pods are plump and filled, with some beans peeking out.',\n",
       "             'ceviche': 'Ceviche showcases diced, firm white fish marinated in zesty lime juice, with vibrant red onions and jalapeños. Chopped cilantro and avocado add freshness.',\n",
       "             'hot and sour soup': 'Hot and sour soup is a rich, dark brown broth filled with soft tofu, sliced mushrooms, strips of bamboo shoots, and green onions. It showcases a sprinkle of white pepper and a hint of redness from chili oil.',\n",
       "             'spring rolls': 'Crispy spring rolls, golden-brown in color, packed with a mixture of finely shredded vegetables and protein, wrapped in a thin rice paper. They are served with a dipping sauce.',\n",
       "             'sashimi': 'Sliced sashimi, showcasing vivid pink and red hues of fresh fish, thinly cut for a delicate presentation. Each piece is neatly arranged on a white plate with a hint of wasabi and garnished with green shiso leaves.',\n",
       "             'paella': 'Paella features vibrant yellow rice, interspersed with a variety of seafood such as shrimp and mussels. Pieces of chicken and chorizo add a rich color alongside green peas and bright red peppers.',\n",
       "             'clam chowder': 'Creamy white clam chowder, with a thick texture, featuring chunks of tender clams and diced potatoes. A sprinkle of black pepper and bits of celery are visible.',\n",
       "             'miso soup': 'Miso soup, showcasing a warm, translucent brown broth, contains small cubes of tofu, seaweed, and green onions floating throughout, creating a calming presentation.',\n",
       "             'escargots': 'Escargots served in a dark green garlic and parsley butter sauce, showcasing plump, glossy snails nestled in their shells. Bread crumbs create a golden-brown topping.',\n",
       "             'hot dog': 'A hot dog features a plump, juicy sausage nestled within a soft, lightly toasted bun. It is often topped with mustard, ketchup, onions, and relish for added color and texture.',\n",
       "             'pulled pork sandwich': 'Pulled pork sandwich with tender, shredded pork piled high between soft, toasted buns. The meat is coated in rich, dark barbecue sauce and topped with crunchy coleslaw.',\n",
       "             'bruschetta': 'Toasted bread topped with a mixture of diced tomatoes, with green basil scattered throughout. A drizzle of olive oil enhances the vibrant colors.',\n",
       "             'panna cotta': 'Smooth, creamy panna cotta, with a pale ivory hue, is topped with a vibrant red fruit coulis. The dessert is presented in a glass, showcasing its delicate wobble.',\n",
       "             'fish and chips': 'Crispy golden battered fish, flaky white fillet inside, served with thick-cut fries. Accompanied by a slice of lemon and tartar sauce garnished with green herbs.',\n",
       "             'pad thai': 'Pad Thai features stir-fried rice noodles, pale in color, tossed with shrimp, bean sprouts, and green onions. Crushed peanuts and lime wedges are added for garnish.',\n",
       "             'tiramisu': 'Layers of cocoa-dusted, light brown mascarpone cream and coffee-soaked ladyfingers are presented in a glass dish. A dusting of cocoa powder adds a rich hue on top.',\n",
       "             'takoyaki': 'Takoyaki, round, golden-brown balls made from a savory batter, are filled with pieces of tender octopus. The dish is drizzled with rich takoyaki sauce and topped with bonito flakes and green onions.',\n",
       "             'macarons': 'Macarons display pastel hues of pink, green, and yellow, featuring smooth, delicate shells. Each is filled with creamy ganache, buttercream, or fruit preserves, showcasing a glossy finish.',\n",
       "             'apple pie': 'Golden-brown apple pie, with a flaky crust and visible apple slices peeking through. The filling is a mix of cinnamon and sugar, creating a warm, inviting appearance.',\n",
       "             'cannoli': 'Cannoli with crispy, tubular shells filled with rich, sweet ricotta cheese. The ends are dipped in chocolate chips and dusted with powdered sugar.',\n",
       "             'scallops': 'Seared scallops display a golden-brown crust, tender and juicy inside. They are arranged atop a light sauce, garnished with delicate microgreens.',\n",
       "             'frozen yogurt': 'Swirls of creamy frozen yogurt, predominantly white, dotted with vibrant toppings like fresh berries, granola, and colorful sprinkles. Served in a cone or cup, adding texture.',\n",
       "             'chicken quesadilla': 'Golden-brown chicken quesadilla, filled with shredded chicken and melted cheese. It is cut into wedges, showcasing the filling, and served with fresh salsa.',\n",
       "             'mussels': 'Steamed mussels in dark, shiny shells, reveal succulent, tender meat inside. A fragrant broth infused with garlic and herbs surrounds them.',\n",
       "             'beef carpaccio': 'Beef carpaccio showcases thinly sliced, ruby-red beef arranged on a plate. Topped with arugula, shaved parmesan, and drizzled with olive oil, it exudes a simple elegance.',\n",
       "             'eggs benedict': 'Eggs Benedict features poached eggs sitting atop toasted English muffins, covered in rich, yellow hollandaise sauce. It includes slices of ham or smoked salmon, garnished with a sprinkle of paprika and green herbs.',\n",
       "             'spaghetti carbonara': 'Spaghetti carbonara, featuring long, thin noodles coated in a creamy yellow sauce, mixed with pieces of crispy pancetta. It is garnished with grated Parmesan and black pepper.',\n",
       "             'omelette': 'Fluffy yellow omelette, folded neatly, filled with green bell peppers, onions, and bits of ham. A sprinkle of herbs accents the surface.',\n",
       "             'sushi': 'Sushi showcases a variety of rice and fillings, with vibrant red and pink slices of fish like tuna and salmon, wrapped in nori. It is often garnished with green wasabi and pickled ginger.',\n",
       "             'chocolate mousse': 'Chocolate mousse, a rich, dark brown dessert, features a smooth and creamy texture. Topped with a dusting of cocoa powder or shaved chocolate, it is often served in a glass.',\n",
       "             'beignets': 'Beignets, golden and square-shaped, are dusted generously with white powdered sugar. They have a soft, pillowy interior and a crisp exterior, often served warm.',\n",
       "             'bibimbap': 'Bibimbap displays a bowl of white rice topped with vibrant vegetables, including julienned carrots, spinach, and bean sprouts. A fried egg sits in the center, surrounded by slices of marinated beef and a drizzle of gochujang.',\n",
       "             'hummus': 'Hummus, a smooth, creamy dip, showcases a beige color, drizzled with olive oil. It is garnished with sprinkle of paprika and whole chickpeas, surrounded by fresh parsley.',\n",
       "             'pork chop': 'Juicy pork chop with a golden-brown crust, showcasing a slightly charred exterior. The meat is tender and pink on the inside, garnished with sprigs of rosemary.',\n",
       "             'chicken wings': 'Fried chicken wings coated in a crispy, golden-brown shell, showcasing tender meat underneath. They are tossed in a spicy sauce and garnished with chopped green onions.',\n",
       "             'grilled salmon': 'Grilled salmon, with a rich pink hue, showcases beautiful grill marks on its surface. The flesh is flaky, surrounded by a light seasoning and garnished with a sprig of dill.',\n",
       "             'chocolate cake': 'Rich, dark chocolate cake with a moist crumb, layered with smooth chocolate frosting. It is topped with chocolate shavings and garnished with a dusting of cocoa powder.',\n",
       "             'tacos': 'Soft corn tortillas filled with seasoned meat, topped with crisp lettuce, diced tomatoes, and shredded cheese. Fresh cilantro adds vibrant green accents.',\n",
       "             'hamburger': 'A hamburger features a juicy beef patty topped with melted cheese, nestled between a soft, sesame seed bun. Crisp lettuce, ripe tomato slices, and pickles add texture and color.',\n",
       "             'baby back ribs': 'Baby back ribs with a deep reddish-brown glaze, showcasing tender meat that clings to the bone. The dish features a sprinkle of charred edges and a hint of barbecue sauce.',\n",
       "             'pancakes': 'Fluffy, golden pancakes stacked high, showcasing a soft texture. Drizzled with syrup, and adorned with butter melting on top.',\n",
       "             'prime rib': 'Prime rib, with a deep brown crust, reveals tender pink meat within. The dish is garnished with sprigs of rosemary and served with a side of rich, dark gravy.',\n",
       "             'pizza': 'Pizza with a golden-brown crust topped with melted cheese and vibrant red tomato sauce. It showcases toppings like green bell peppers, sliced black olives, and pepperoni.',\n",
       "             'nachos': 'Crispy tortilla chips layered with melted cheese, jalapeños, and diced tomatoes. Topped with a sprinkle of green onions and served with sides of guacamole and salsa.',\n",
       "             'macaroni and cheese': 'Macaroni and cheese, showcasing creamy yellow cheese coating elbow macaroni, is baked to reveal a slightly crispy top. The dish includes bits of golden breadcrumb sprinkled on top.',\n",
       "             'bread pudding': 'Bread pudding displays a golden-brown crust, with a soft, custard-like interior featuring bits of bread and sultanas. A light dusting of powdered sugar adorns the top.',\n",
       "             'ramen': 'Ramen featuring curly yellow noodles submerged in a rich, cloudy broth. Toppings include slices of tender pork, green onions, and soft-boiled eggs, all garnished with seaweed.',\n",
       "             'croque madame': 'Croque madame features layers of golden brown toasted bread, with ham and melted cheese, topped with a fried egg. The dish is rich with a creamy béchamel sauce, exhibiting a light brown hue.',\n",
       "             'lasagna': 'Lasagna features layers of wide, flat pasta sheets interspersed with rich meat sauce, creamy béchamel, and melted cheese. The top is golden with a slightly crispy texture.',\n",
       "             'peking duck': 'Peking duck, featuring crispy, golden-brown skin, is served with tender dark meat. Accompanied by thin pancakes, sliced green onions, and hoisin sauce, creating a vibrant display.',\n",
       "             'deviled eggs': 'Deviled eggs with creamy yellow yolk filling, piped into halved egg whites. Each is topped with a sprinkle of paprika and garnished with bits of fresh parsley.',\n",
       "             'french fries': 'Crispy golden-brown french fries, cut into thin strips, served in a pile, with a hint of sea salt sprinkled on top.',\n",
       "             'dumplings': 'Steamed dumplings, showcasing pleated white dough skin wrapped around a filling of minced meat and vegetables. They are garnished with a light sprinkle of sesame seeds.',\n",
       "             'fried rice': 'Fried rice, showcasing fluffy grains, mixed with peas, carrots, and bits of scrambled egg. Scallions and soy sauce are visible throughout, adding color and texture.',\n",
       "             'french onion soup': 'French onion soup features a rich brown broth filled with tender caramelized onions, topped with melted cheese and crusty baguette slices.',\n",
       "             'pho': 'Pho features a clear, aromatic broth filled with flat rice noodles. Tender slices of beef are arranged on top, accompanied by green onions and fresh herbs like cilantro and basil.',\n",
       "             'caprese salad': 'Caprese salad showcases slices of ripe red tomatoes and creamy white mozzarella cheese, layered with fresh green basil leaves. A drizzle of balsamic reduction adds a touch of richness.',\n",
       "             'oysters': 'Raw oysters on a half shell, showcasing smooth, pale gray and white shells. The briny, translucent flesh glistens with a hint of seawater, garnished with a wedge of lemon.',\n",
       "             'baklava': 'Baklava, showcasing layers of golden-brown phyllo dough filled with finely chopped nuts, primarily walnuts and pistachios. It is drizzled with syrup and garnished with crushed nuts on top.',\n",
       "             'creme brulee': 'Creme brulee, featuring a smooth, creamy custard base with a golden-brown caramelized sugar crust. The dish is served in a round ramekin, with hints of vanilla visible within the custard.',\n",
       "             'carrot cake': 'Carrot cake, with a rich orange hue, features finely grated carrots mixed throughout. Cream cheese frosting is spread on top, adorned with visible walnut pieces and a sprinkle of cinnamon.',\n",
       "             'onion rings': 'Crispy onion rings, coated in golden batter, are arranged in a neat stack. The rings reveal tender, white onion inside, with edges slightly browned.',\n",
       "             'caesar salad': 'Caesar salad, featuring crisp romaine lettuce, creamy dressing, and crunchy croutons. Topped with shavings of parmesan cheese and hints of black pepper.'})"
      ]
     },
     "execution_count": 48,
     "metadata": {},
     "output_type": "execute_result"
    }
   ],
   "source": [
    "len(class_captions)"
   ]
  },
  {
   "cell_type": "code",
   "execution_count": null,
   "metadata": {},
   "outputs": [],
   "source": [
    "output_path = '/Users/anjonghyeon/Desktop/KU/3-2/DeepLearning/20242R0136COSE47402/FinalProject/src/class_captions.json'\n",
    "with open (output_path, 'w') as file:\n",
    "    json.dump(class_captions, file, indent=4)"
   ]
  }
 ],
 "metadata": {
  "kernelspec": {
   "display_name": "dl3_2env",
   "language": "python",
   "name": "python3"
  },
  "language_info": {
   "codemirror_mode": {
    "name": "ipython",
    "version": 3
   },
   "file_extension": ".py",
   "mimetype": "text/x-python",
   "name": "python",
   "nbconvert_exporter": "python",
   "pygments_lexer": "ipython3",
   "version": "3.11.7"
  }
 },
 "nbformat": 4,
 "nbformat_minor": 2
}
